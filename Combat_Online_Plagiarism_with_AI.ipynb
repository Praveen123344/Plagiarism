{
  "nbformat": 4,
  "nbformat_minor": 0,
  "metadata": {
    "colab": {
      "provenance": [],
      "authorship_tag": "ABX9TyPrid0HxEhHbp20ss1LQ7ai",
      "include_colab_link": true
    },
    "kernelspec": {
      "name": "python3",
      "display_name": "Python 3"
    },
    "language_info": {
      "name": "python"
    }
  },
  "cells": [
    {
      "cell_type": "markdown",
      "metadata": {
        "id": "view-in-github",
        "colab_type": "text"
      },
      "source": [
        "<a href=\"https://colab.research.google.com/github/Praveen123344/Plagiarism/blob/main/Combat_Online_Plagiarism_with_AI.ipynb\" target=\"_parent\"><img src=\"https://colab.research.google.com/assets/colab-badge.svg\" alt=\"Open In Colab\"/></a>"
      ]
    },
    {
      "cell_type": "code",
      "execution_count": null,
      "metadata": {
        "id": "gDqTOsMsFRRC"
      },
      "outputs": [],
      "source": [
        "from sklearn.feature_extraction.text import TfidfVectorizer\n",
        "from sklearn.metrics.pairwise import cosine_similarity"
      ]
    },
    {
      "cell_type": "code",
      "source": [
        "# Sample text data\n",
        "documents = {\n",
        "    \"Doc1\": \"Machine learning is a method of data analysis that automates analytical model building.\",\n",
        "    \"Doc2\": \"Machine learning automates analytical model building and is a method of data analysis.\",\n",
        "    \"Doc3\": \"Deep learning is a subset of machine learning concerned with neural networks.\",\n",
        "    \"Doc4\": \"Artificial intelligence includes machine learning and deep learning techniques.\",\n",
        "}"
      ],
      "metadata": {
        "id": "rxGAlkqnnK4O"
      },
      "execution_count": null,
      "outputs": []
    },
    {
      "cell_type": "code",
      "source": [
        "# Extract document names and text\n",
        "doc_names = list(documents.keys())\n",
        "doc_texts = list(documents.values())"
      ],
      "metadata": {
        "id": "IPZkRVg_n5vW"
      },
      "execution_count": null,
      "outputs": []
    },
    {
      "cell_type": "code",
      "source": [
        "# Convert text into TF-IDF vectors\n",
        "vectorizer = TfidfVectorizer()\n",
        "vectors = vectorizer.fit_transform(doc_texts).toarray()"
      ],
      "metadata": {
        "id": "grHFf3kAnP7o"
      },
      "execution_count": null,
      "outputs": []
    },
    {
      "cell_type": "code",
      "source": [
        "# Plagiarism checking function\n",
        "def check_plagiarism():\n",
        "    plagiarism_results = set()\n",
        "    for i in range(len(doc_names)):\n",
        "        for j in range(i + 1, len(doc_names)):  # Avoid duplicate comparisons\n",
        "            # Properly reshape the vectors to 2D arrays\n",
        "            sim_score = cosine_similarity(vectors[i].reshape(1, -1), vectors[j].reshape(1, -1))[0][0]\n",
        "            plagiarism_results.add((doc_names[i], doc_names[j], sim_score))\n",
        "\n",
        "    return plagiarism_results"
      ],
      "metadata": {
        "id": "BhGc-wfanTxe"
      },
      "execution_count": null,
      "outputs": []
    },
    {
      "cell_type": "code",
      "source": [
        "# Display results\n",
        "print(\"\\nPlagiarism Report:\")\n",
        "for doc1, doc2, score in sorted(check_plagiarism(), key=lambda x: x[2], reverse=True):\n",
        "    print(f\"{doc1} - {doc2}: {score:.2f}\")"
      ],
      "metadata": {
        "colab": {
          "base_uri": "https://localhost:8080/"
        },
        "id": "O6L4ItNFp5H7",
        "outputId": "e62f47d3-fd70-4572-bd10-ba0641e51170"
      },
      "execution_count": null,
      "outputs": [
        {
          "output_type": "stream",
          "name": "stdout",
          "text": [
            "\n",
            "Plagiarism Report:\n",
            "Doc1 - Doc2: 0.88\n",
            "Doc3 - Doc4: 0.28\n",
            "Doc2 - Doc3: 0.23\n",
            "Doc1 - Doc3: 0.23\n",
            "Doc2 - Doc4: 0.22\n",
            "Doc1 - Doc4: 0.12\n"
          ]
        }
      ]
    }
  ]
}